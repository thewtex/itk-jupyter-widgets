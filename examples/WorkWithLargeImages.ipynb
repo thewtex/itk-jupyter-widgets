{
 "cells": [
  {
   "cell_type": "code",
   "execution_count": 1,
   "metadata": {},
   "outputs": [
    {
     "name": "stdout",
     "output_type": "stream",
     "text": [
      "Requirement already satisfied: itk-io in /home/matt/bin/venvs/itkwidgets/lib/python2.7/site-packages\n",
      "Requirement already satisfied: requests in /home/matt/bin/venvs/itkwidgets/lib/python2.7/site-packages\n",
      "Requirement already satisfied: tqdm in /home/matt/bin/venvs/itkwidgets/lib/python2.7/site-packages\n",
      "Requirement already satisfied: itk-core in /home/matt/bin/venvs/itkwidgets/lib/python2.7/site-packages (from itk-io)\n",
      "Requirement already satisfied: idna<2.8,>=2.5 in /home/matt/bin/venvs/itkwidgets/lib/python2.7/site-packages (from requests)\n",
      "Requirement already satisfied: urllib3<1.24,>=1.21.1 in /home/matt/bin/venvs/itkwidgets/lib/python2.7/site-packages (from requests)\n",
      "Requirement already satisfied: chardet<3.1.0,>=3.0.2 in /home/matt/bin/venvs/itkwidgets/lib/python2.7/site-packages (from requests)\n",
      "Requirement already satisfied: certifi>=2017.4.17 in /home/matt/bin/venvs/itkwidgets/lib/python2.7/site-packages (from requests)\n",
      "\u001b[33mYou are using pip version 9.0.2, however version 18.0 is available.\n",
      "You should consider upgrading via the 'pip install --upgrade pip' command.\u001b[0m\n"
     ]
    }
   ],
   "source": [
    "# Install dependencies for this example\n",
    "# Note: This does not include itk-jupyter-widgets, itself\n",
    "import sys\n",
    "!{sys.executable} -m pip install itk-io requests tqdm"
   ]
  },
  {
   "cell_type": "code",
   "execution_count": 4,
   "metadata": {},
   "outputs": [],
   "source": [
    "import requests\n",
    "from tqdm import tqdm_notebook as tqdm\n",
    "import os\n",
    "\n",
    "import numpy as np\n",
    "import itk\n",
    "\n",
    "from itkwidgets import view\n",
    "import itkwidgets"
   ]
  },
  {
   "cell_type": "code",
   "execution_count": 5,
   "metadata": {},
   "outputs": [],
   "source": [
    "# Download example data\n",
    "# Source: https://cvlab.epfl.ch/data/em\n",
    "#\n",
    "# 1024x768x165 unsigned char, 124MB file\n",
    "url = 'https://documents.epfl.ch/groups/c/cv/cvlab-unit/www/data/%20ElectronMicroscopy_Hippocampus/training.tif'\n",
    "# 2048x1536x1065 unsigned char, 3.2GB file\n",
    "#url = 'https://documents.epfl.ch/groups/c/cv/cvlab-unit/www/data/%20ElectronMicroscopy_Hippocampus/volumedata.tif'\n",
    "filename = 'hippocampus.tif'\n",
    "\n",
    "if not os.path.exists(filename):\n",
    "    chunk_size = 32 * 1024\n",
    "    r = requests.get(url, stream=True)\n",
    "    total_size = int(r.headers.get('content-length', 0))\n",
    "    pbar = tqdm(unit=\"B\", unit_scale=True, total=int(total_size))\n",
    "    with open(filename, 'wb') as f:\n",
    "        for chunk in r.iter_content(chunk_size=chunk_size): \n",
    "            if chunk: # filter out keep-alive new chunks\n",
    "                pbar.update(len(chunk))\n",
    "                f.write(chunk)"
   ]
  },
  {
   "cell_type": "code",
   "execution_count": 8,
   "metadata": {},
   "outputs": [
    {
     "name": "stdout",
     "output_type": "stream",
     "text": [
      "CPU times: user 584 ms, sys: 0 ns, total: 584 ms\n",
      "Wall time: 98 ms\n"
     ]
    },
    {
     "data": {
      "application/vnd.jupyter.widget-view+json": {
       "model_id": "3258df3595f54aeea3efac8253c7b29e",
       "version_major": 2,
       "version_minor": 0
      },
      "text/html": [
       "<p>Failed to display Jupyter Widget of type <code>Viewer</code>.</p>\n",
       "<p>\n",
       "  If you're reading this message in the Jupyter Notebook or JupyterLab Notebook, it may mean\n",
       "  that the widgets JavaScript is still loading. If this message persists, it\n",
       "  likely means that the widgets JavaScript library is either not installed or\n",
       "  not enabled. See the <a href=\"https://ipywidgets.readthedocs.io/en/stable/user_install.html\">Jupyter\n",
       "  Widgets Documentation</a> for setup instructions.\n",
       "</p>\n",
       "<p>\n",
       "  If you're reading this message in another frontend (for example, a static\n",
       "  rendering on GitHub or <a href=\"https://nbviewer.jupyter.org/\">NBViewer</a>),\n",
       "  it may mean that your frontend doesn't currently support widgets.\n",
       "</p>\n"
      ],
      "text/plain": [
       "Viewer(annotations=False, cmap=u'gray_Matlab', gradient_opacity=0.3, rendered_image=<itkImagePython.itkImageUC3; proxy of <Swig Object of type 'itkImageUC3 *' at 0x7fa90870a1e0> >, roi=[[0.0, 0.0, 0.0], [0.0, 0.0, 0.0]], size_limit_2d=[2048, 2048], size_limit_3d=[256, 256, 256], slicing_planes=True)"
      ]
     },
     "metadata": {},
     "output_type": "display_data"
    }
   ],
   "source": [
    "image = itk.imread(filename)\n",
    "%time view(image, gradient_opacity=0.3, cmap=itkwidgets.cm.gray, slicing_planes=True, annotations=False)"
   ]
  },
  {
   "cell_type": "markdown",
   "metadata": {},
   "source": [
    "Next, click the crop button in the widget user interface. Adjust the location of the region of interest (roi) by click and dragging the corner of the cropping box."
   ]
  },
  {
   "cell_type": "code",
   "execution_count": 6,
   "metadata": {},
   "outputs": [
    {
     "data": {
      "text/plain": [
       "itkFixedArrayUI3 ([1, 1, 1])"
      ]
     },
     "execution_count": 6,
     "metadata": {},
     "output_type": "execute_result"
    }
   ],
   "source": [
    "# Get the selected region as an itk.ImageRegion\n",
    "shrnker = itk.BinShrinkImageFilter.New(image)\n",
    "shrnker.GetShrinkFactors()"
   ]
  },
  {
   "cell_type": "code",
   "execution_count": 3,
   "metadata": {},
   "outputs": [
    {
     "data": {
      "text/plain": [
       "1"
      ]
     },
     "execution_count": 3,
     "metadata": {},
     "output_type": "execute_result"
    }
   ],
   "source": [
    "# Get the selected region as NumPy array slices\n",
    "1024 / 513"
   ]
  },
  {
   "cell_type": "code",
   "execution_count": 18,
   "metadata": {},
   "outputs": [
    {
     "data": {
      "application/vnd.jupyter.widget-view+json": {
       "model_id": "6e2f4dee2f424d3bae8dbe34d3f020d4",
       "version_major": 2,
       "version_minor": 0
      },
      "text/plain": [
       "Viewer(annotations=False, cmap='PRGn', gradient_opacity=0.4, rendered_image=<itkImagePython.itkImageUS3; proxy…"
      ]
     },
     "metadata": {},
     "output_type": "display_data"
    }
   ],
   "source": [
    "# Use the slices to extract the region of interest\n",
    "arr = itk.GetArrayFromImage(image)\n",
    "roi = viewer.roi_slice()\n",
    "view(arr[roi], gradient_opacity=0.4, cmap=itkwidgets.cm.PrGn, annotations=False, ui_collapsed=True)"
   ]
  }
 ],
 "metadata": {
  "kernelspec": {
   "display_name": "Python 2",
   "language": "python",
   "name": "python2"
  },
  "language_info": {
   "codemirror_mode": {
    "name": "ipython",
    "version": 2
   },
   "file_extension": ".py",
   "mimetype": "text/x-python",
   "name": "python",
   "nbconvert_exporter": "python",
   "pygments_lexer": "ipython2",
   "version": "2.7.13"
  }
 },
 "nbformat": 4,
 "nbformat_minor": 2
}

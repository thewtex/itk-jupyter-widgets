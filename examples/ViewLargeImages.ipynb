{
 "cells": [
  {
   "cell_type": "code",
   "execution_count": 1,
   "metadata": {},
   "outputs": [
    {
     "name": "stdout",
     "output_type": "stream",
     "text": [
      "Requirement already satisfied: itk-io in /home/matt/bin/venvs/itk-jupyter-widgets-yU_wQiyv/lib/python3.6/site-packages (4.13.1.post1)\r\n",
      "Requirement already satisfied: requests in /home/matt/bin/venvs/itk-jupyter-widgets-yU_wQiyv/lib/python3.6/site-packages (2.19.1)\r\n",
      "Requirement already satisfied: tqdm in /home/matt/bin/venvs/itk-jupyter-widgets-yU_wQiyv/lib/python3.6/site-packages (4.24.0)\r\n",
      "Requirement already satisfied: itk-core in /home/matt/bin/venvs/itk-jupyter-widgets-yU_wQiyv/lib/python3.6/site-packages (from itk-io) (4.13.1.post1)\r\n",
      "Requirement already satisfied: urllib3<1.24,>=1.21.1 in /home/matt/bin/venvs/itk-jupyter-widgets-yU_wQiyv/lib/python3.6/site-packages (from requests) (1.23)\r\n",
      "Requirement already satisfied: certifi>=2017.4.17 in /home/matt/bin/venvs/itk-jupyter-widgets-yU_wQiyv/lib/python3.6/site-packages (from requests) (2018.8.13)\r\n",
      "Requirement already satisfied: chardet<3.1.0,>=3.0.2 in /home/matt/bin/venvs/itk-jupyter-widgets-yU_wQiyv/lib/python3.6/site-packages (from requests) (3.0.4)\r\n",
      "Requirement already satisfied: idna<2.8,>=2.5 in /home/matt/bin/venvs/itk-jupyter-widgets-yU_wQiyv/lib/python3.6/site-packages (from requests) (2.7)\r\n"
     ]
    }
   ],
   "source": [
    "# Install dependencies for this example\n",
    "# Note: This does not include itk-jupyter-widgets, itself\n",
    "import sys\n",
    "!{sys.executable} -m pip install itk-io requests tqdm"
   ]
  },
  {
   "cell_type": "code",
   "execution_count": 1,
   "metadata": {},
   "outputs": [],
   "source": [
    "import requests\n",
    "from tqdm import tqdm_notebook as tqdm\n",
    "import os\n",
    "\n",
    "import numpy as np\n",
    "import itk\n",
    "\n",
    "from itkwidgets import view_large_image\n",
    "import itkwidgets"
   ]
  },
  {
   "cell_type": "code",
   "execution_count": 2,
   "metadata": {},
   "outputs": [],
   "source": [
    "# Download example data\n",
    "# Source: https://cvlab.epfl.ch/data/em\n",
    "#\n",
    "# 1024x768x165 unsigned char, 124MB file\n",
    "url = 'https://documents.epfl.ch/groups/c/cv/cvlab-unit/www/data/%20ElectronMicroscopy_Hippocampus/training.tif'\n",
    "filename = 'hippocampus.tif'\n",
    "# 2048x1536x1065 unsigned char, 3.2GB file\n",
    "url = 'https://documents.epfl.ch/groups/c/cv/cvlab-unit/www/data/%20ElectronMicroscopy_Hippocampus/volumedata.tif'\n",
    "filename = 'hippocampus_large.tif'\n",
    "\n",
    "if not os.path.exists(filename):\n",
    "    chunk_size = 32 * 1024\n",
    "    r = requests.get(url, stream=True)\n",
    "    total_size = int(r.headers.get('content-length', 0))\n",
    "    pbar = tqdm(unit=\"B\", unit_scale=True, total=int(total_size))\n",
    "    with open(filename, 'wb') as f:\n",
    "        for chunk in r.iter_content(chunk_size=chunk_size): \n",
    "            if chunk: # filter out keep-alive new chunks\n",
    "                pbar.update(len(chunk))\n",
    "                f.write(chunk)"
   ]
  },
  {
   "cell_type": "code",
   "execution_count": 3,
   "metadata": {},
   "outputs": [],
   "source": [
    "image = itk.imread(filename)"
   ]
  },
  {
   "cell_type": "code",
   "execution_count": 4,
   "metadata": {},
   "outputs": [
    {
     "name": "stdout",
     "output_type": "stream",
     "text": [
      "updating rendered image!\n",
      "False\n",
      "strinkers:  itkFixedArrayUI3 ([8, 6, 5])\n",
      "updating\n",
      "updated\n"
     ]
    },
    {
     "data": {
      "application/vnd.jupyter.widget-view+json": {
       "model_id": "93064634d3e44d29a7eac4d3b63f9395",
       "version_major": 2,
       "version_minor": 0
      },
      "text/plain": [
       "Viewer(annotations=False, cmap='gray_Matlab', gradient_opacity=0.4, rendered_image=<itkImagePython.itkImageUC3…"
      ]
     },
     "metadata": {},
     "output_type": "display_data"
    }
   ],
   "source": [
    "viewer = view_large_image(image,\n",
    "    gradient_opacity=0.4,\n",
    "    cmap=itkwidgets.cm.gray,\n",
    "    slicing_planes=True,\n",
    "    ui_collapsed=True,\n",
    "    annotations=False)\n",
    "viewer"
   ]
  },
  {
   "cell_type": "markdown",
   "metadata": {},
   "source": [
    "Next, click the crop button in the widget user interface. Adjust the location of the region of interest (roi) by click and dragging the corner of the cropping box."
   ]
  },
  {
   "cell_type": "code",
   "execution_count": 8,
   "metadata": {},
   "outputs": [
    {
     "data": {
      "text/plain": [
       "True"
      ]
     },
     "execution_count": 8,
     "metadata": {},
     "output_type": "execute_result"
    }
   ],
   "source": [
    "viewer.children[0]._downsampling"
   ]
  },
  {
   "cell_type": "code",
   "execution_count": 11,
   "metadata": {},
   "outputs": [],
   "source": [
    "def printit(change):\n",
    "    print(viewer.counter)\n",
    "viewer.observe(printit, ['counter'])"
   ]
  },
  {
   "cell_type": "code",
   "execution_count": 15,
   "metadata": {},
   "outputs": [
    {
     "name": "stdout",
     "output_type": "stream",
     "text": [
      "updating roi!!!\n"
     ]
    },
    {
     "ename": "NameError",
     "evalue": "global name 'aoeuaotnseuhs' is not defined",
     "output_type": "error",
     "traceback": [
      "\u001b[0;31m---------------------------------------------------------------------------\u001b[0m",
      "\u001b[0;31mNameError\u001b[0m                                 Traceback (most recent call last)",
      "\u001b[0;32m<ipython-input-15-71f62701794c>\u001b[0m in \u001b[0;36m<module>\u001b[0;34m()\u001b[0m\n\u001b[0;32m----> 1\u001b[0;31m \u001b[0mviewer\u001b[0m\u001b[0;34m.\u001b[0m\u001b[0m_update_roi\u001b[0m\u001b[0;34m(\u001b[0m\u001b[0;34m)\u001b[0m\u001b[0;34m\u001b[0m\u001b[0m\n\u001b[0m",
      "\u001b[0;32m/home/matt/src/itk-jupyter-widgets/itkwidgets/widget_viewer.py\u001b[0m in \u001b[0;36m_update_roi\u001b[0;34m(self)\u001b[0m\n\u001b[1;32m    246\u001b[0m     \u001b[0;32mdef\u001b[0m \u001b[0m_update_roi\u001b[0m\u001b[0;34m(\u001b[0m\u001b[0mself\u001b[0m\u001b[0;34m)\u001b[0m\u001b[0;34m:\u001b[0m\u001b[0;34m\u001b[0m\u001b[0m\n\u001b[1;32m    247\u001b[0m         \u001b[0;32mprint\u001b[0m\u001b[0;34m(\u001b[0m\u001b[0;34m'updating roi!!!'\u001b[0m\u001b[0;34m)\u001b[0m\u001b[0;34m\u001b[0m\u001b[0m\n\u001b[0;32m--> 248\u001b[0;31m         \u001b[0maoeuaotnseuhs\u001b[0m\u001b[0;34m\u001b[0m\u001b[0m\n\u001b[0m\u001b[1;32m    249\u001b[0m         \u001b[0mroi_region\u001b[0m \u001b[0;34m=\u001b[0m \u001b[0mself\u001b[0m\u001b[0;34m.\u001b[0m\u001b[0mroi_region\u001b[0m\u001b[0;34m(\u001b[0m\u001b[0;34m)\u001b[0m\u001b[0;34m\u001b[0m\u001b[0m\n\u001b[1;32m    250\u001b[0m         \u001b[0mself\u001b[0m\u001b[0;34m.\u001b[0m\u001b[0mroi_filter\u001b[0m\u001b[0;34m.\u001b[0m\u001b[0mSetExtractionRegion\u001b[0m\u001b[0;34m(\u001b[0m\u001b[0mroi_region\u001b[0m\u001b[0;34m)\u001b[0m\u001b[0;34m\u001b[0m\u001b[0m\n",
      "\u001b[0;31mNameError\u001b[0m: global name 'aoeuaotnseuhs' is not defined"
     ]
    }
   ],
   "source": [
    "viewer._update_roi()"
   ]
  },
  {
   "cell_type": "code",
   "execution_count": 5,
   "metadata": {},
   "outputs": [
    {
     "name": "stdout",
     "output_type": "stream",
     "text": [
      "Image (0x43199a0)\n",
      "  RTTI typeinfo:   itk::Image<unsigned char, 3u>\n",
      "  Reference Count: 1\n",
      "  Modified Time: 323\n",
      "  Debug: Off\n",
      "  Object Name: \n",
      "  Observers: \n",
      "    none\n",
      "  Source: (none)\n",
      "  Source output name: (none)\n",
      "  Release Data: Off\n",
      "  Data Released: False\n",
      "  Global Release Data: Off\n",
      "  PipelineMTime: 166\n",
      "  UpdateMTime: 322\n",
      "  RealTimeStamp: 0 seconds \n",
      "  LargestPossibleRegion: \n",
      "    Dimension: 3\n",
      "    Index: [0, 0, 0]\n",
      "    Size: [1024, 768, 165]\n",
      "  BufferedRegion: \n",
      "    Dimension: 3\n",
      "    Index: [0, 0, 0]\n",
      "    Size: [1024, 768, 165]\n",
      "  RequestedRegion: \n",
      "    Dimension: 3\n",
      "    Index: [0, 0, 0]\n",
      "    Size: [1024, 768, 165]\n",
      "  Spacing: [1, 1, 1]\n",
      "  Origin: [0, 0, 0]\n",
      "  Direction: \n",
      "1 0 0\n",
      "0 1 0\n",
      "0 0 1\n",
      "\n",
      "  IndexToPointMatrix: \n",
      "1 0 0\n",
      "0 1 0\n",
      "0 0 1\n",
      "\n",
      "  PointToIndexMatrix: \n",
      "1 0 0\n",
      "0 1 0\n",
      "0 0 1\n",
      "\n",
      "  Inverse Direction: \n",
      "1 0 0\n",
      "0 1 0\n",
      "0 0 1\n",
      "\n",
      "  PixelContainer: \n",
      "    ImportImageContainer (0x42fa980)\n",
      "      RTTI typeinfo:   itk::ImportImageContainer<unsigned long, unsigned char>\n",
      "      Reference Count: 2\n",
      "      Modified Time: 319\n",
      "      Debug: Off\n",
      "      Object Name: \n",
      "      Observers: \n",
      "        none\n",
      "      Pointer: 0x7f5ba3af8010\n",
      "      Container manages memory: true\n",
      "      Size: 129761280\n",
      "      Capacity: 129761280\n",
      "\n"
     ]
    }
   ],
   "source": [
    "print(image)"
   ]
  },
  {
   "cell_type": "code",
   "execution_count": null,
   "metadata": {},
   "outputs": [],
   "source": []
  }
 ],
 "metadata": {
  "kernelspec": {
   "display_name": "Python 2",
   "language": "python",
   "name": "python2"
  },
  "language_info": {
   "codemirror_mode": {
    "name": "ipython",
    "version": 3
   },
   "file_extension": ".py",
   "mimetype": "text/x-python",
   "name": "python",
   "nbconvert_exporter": "python",
   "pygments_lexer": "ipython3",
   "version": "3.6.5"
  }
 },
 "nbformat": 4,
 "nbformat_minor": 2
}

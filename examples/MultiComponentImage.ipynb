{
 "cells": [
  {
   "cell_type": "code",
   "execution_count": 1,
   "metadata": {},
   "outputs": [
    {
     "name": "stdout",
     "output_type": "stream",
     "text": [
      "Requirement already satisfied: itk-io in /home/matt/bin/venvs/itk-jupyter-widgets-yU_wQiyv/lib/python3.6/site-packages (5.0b1)\n",
      "Collecting imageio\n",
      "\u001b[?25l  Downloading https://files.pythonhosted.org/packages/28/b4/cbb592964dfd71a9de6a5b08f882fd334fb99ae09ddc82081dbb2f718c81/imageio-2.4.1.tar.gz (3.3MB)\n",
      "\u001b[K    100% |████████████████████████████████| 3.3MB 10.7MB/s ta 0:00:01\n",
      "\u001b[?25hRequirement already satisfied: itk-core>=5.0b1 in /home/matt/bin/venvs/itk-jupyter-widgets-yU_wQiyv/lib/python3.6/site-packages (from itk-io) (5.0b1)\n",
      "Requirement already satisfied: numpy in /home/matt/bin/venvs/itk-jupyter-widgets-yU_wQiyv/lib/python3.6/site-packages (from imageio) (1.15.0)\n",
      "Collecting pillow (from imageio)\n",
      "  Using cached https://files.pythonhosted.org/packages/62/94/5430ebaa83f91cc7a9f687ff5238e26164a779cca2ef9903232268b0a318/Pillow-5.3.0-cp36-cp36m-manylinux1_x86_64.whl\n",
      "Building wheels for collected packages: imageio\n",
      "  Running setup.py bdist_wheel for imageio ... \u001b[?25ldone\n",
      "\u001b[?25h  Stored in directory: /home/matt/.cache/pip/wheels/e0/43/31/605de9372ceaf657f152d3d5e82f42cf265d81db8bbe63cde1\n",
      "Successfully built imageio\n",
      "Installing collected packages: pillow, imageio\n",
      "Successfully installed imageio-2.4.1 pillow-5.3.0\n"
     ]
    }
   ],
   "source": [
    "# Install dependencies for this example\n",
    "# Note: This does not include itk-jupyter-widgets, itself\n",
    "import sys\n",
    "!{sys.executable} -m pip install itk-io imageio"
   ]
  },
  {
   "cell_type": "code",
   "execution_count": 1,
   "metadata": {},
   "outputs": [],
   "source": [
    "try:\n",
    "    from urllib.request import urlretrieve\n",
    "except ImportError:\n",
    "    from urllib import urlretrieve\n",
    "import os\n",
    "\n",
    "import itk\n",
    "\n",
    "from itkwidgets import view"
   ]
  },
  {
   "cell_type": "code",
   "execution_count": 2,
   "metadata": {},
   "outputs": [],
   "source": [
    "# Download data\n",
    "file_name = 'yeast_mito-T9-filtered.nrrd'\n",
    "if not os.path.exists(file_name):\n",
    "    url = 'https://data.kitware.com/#item/5bbac5988d777f06b917b66c'\n",
    "    urlretrieve(url, file_name)"
   ]
  },
  {
   "cell_type": "code",
   "execution_count": 3,
   "metadata": {},
   "outputs": [],
   "source": [
    "ImageDimension = 3\n",
    "ImageType = itk.VectorImage[itk.US, ImageDimension]\n",
    "reader = itk.ImageFileReader[ImageType].New()\n",
    "reader.SetFileName(file_name)\n",
    "reader.Update()\n",
    "image = reader.GetOutput()"
   ]
  },
  {
   "cell_type": "code",
   "execution_count": 4,
   "metadata": {},
   "outputs": [
    {
     "name": "stdout",
     "output_type": "stream",
     "text": [
      "US3\n"
     ]
    },
    {
     "data": {
      "application/vnd.jupyter.widget-view+json": {
       "model_id": "9b077bfa6dca4e9f8a576c15ef8a997a",
       "version_major": 2,
       "version_minor": 0
      },
      "text/plain": [
       "Viewer(rendered_image=<itkVectorImagePython.itkVectorImageUS3; proxy of <Swig Object of type 'itkVectorImageUS…"
      ]
     },
     "metadata": {},
     "output_type": "display_data"
    }
   ],
   "source": [
    "view(image)"
   ]
  },
  {
   "cell_type": "code",
   "execution_count": 10,
   "metadata": {},
   "outputs": [
    {
     "data": {
      "text/plain": [
       "2"
      ]
     },
     "execution_count": 10,
     "metadata": {},
     "output_type": "execute_result"
    }
   ],
   "source": [
    "image.GetNumberOfComponentsPerPixel()\n"
   ]
  },
  {
   "cell_type": "code",
   "execution_count": 12,
   "metadata": {},
   "outputs": [],
   "source": [
    "pa = image.GetPixelAccessor()"
   ]
  },
  {
   "cell_type": "code",
   "execution_count": 13,
   "metadata": {},
   "outputs": [],
   "source": [
    "p = image.GetPixelContainer()"
   ]
  },
  {
   "cell_type": "code",
   "execution_count": 14,
   "metadata": {},
   "outputs": [
    {
     "data": {
      "text/plain": [
       "\"<itkVectorImagePython.itkVectorImageUS3; proxy of <Swig Object of type 'itkVectorImageUS3 *' at 0x7fdafae556f0> >\""
      ]
     },
     "execution_count": 14,
     "metadata": {},
     "output_type": "execute_result"
    }
   ],
   "source": [
    "repr(image)"
   ]
  },
  {
   "cell_type": "code",
   "execution_count": 5,
   "metadata": {},
   "outputs": [
    {
     "name": "stdout",
     "output_type": "stream",
     "text": [
      "<itkTemplate itk::PyBuffer>\n",
      "Options:\n",
      "  [<class 'itkImagePython.itkImageCVF22'>,]\n",
      "  [<class 'itkImagePython.itkImageCVF23'>,]\n",
      "  [<class 'itkImagePython.itkImageCVF32'>,]\n",
      "  [<class 'itkImagePython.itkImageCVF33'>,]\n",
      "  [<class 'itkImagePython.itkImageCVF42'>,]\n",
      "  [<class 'itkImagePython.itkImageCVF43'>,]\n",
      "  [<class 'itkImagePython.itkImageD2'>,]\n",
      "  [<class 'itkImagePython.itkImageD3'>,]\n",
      "  [<class 'itkImagePython.itkImageF2'>,]\n",
      "  [<class 'itkImagePython.itkImageF3'>,]\n",
      "  [<class 'itkImagePython.itkImageRGBAUC2'>,]\n",
      "  [<class 'itkImagePython.itkImageRGBAUC3'>,]\n",
      "  [<class 'itkImagePython.itkImageRGBUC2'>,]\n",
      "  [<class 'itkImagePython.itkImageRGBUC3'>,]\n",
      "  [<class 'itkImagePython.itkImageSS2'>,]\n",
      "  [<class 'itkImagePython.itkImageSS3'>,]\n",
      "  [<class 'itkImagePython.itkImageSSRTD22'>,]\n",
      "  [<class 'itkImagePython.itkImageSSRTD33'>,]\n",
      "  [<class 'itkImagePython.itkImageUC2'>,]\n",
      "  [<class 'itkImagePython.itkImageUC3'>,]\n",
      "  [<class 'itkImagePython.itkImageUL2'>,]\n",
      "  [<class 'itkImagePython.itkImageUL3'>,]\n",
      "  [<class 'itkImagePython.itkImageUS2'>,]\n",
      "  [<class 'itkImagePython.itkImageUS3'>,]\n",
      "  [<class 'itkImagePython.itkImageVF22'>,]\n",
      "  [<class 'itkImagePython.itkImageVF23'>,]\n",
      "  [<class 'itkImagePython.itkImageVF32'>,]\n",
      "  [<class 'itkImagePython.itkImageVF33'>,]\n",
      "  [<class 'itkImagePython.itkImageVF42'>,]\n",
      "  [<class 'itkImagePython.itkImageVF43'>,]\n",
      "  [<class 'itkVectorImagePython.itkVectorImageF2'>,]\n",
      "  [<class 'itkVectorImagePython.itkVectorImageF3'>,]\n",
      "  [<class 'itkVectorImagePython.itkVectorImageSS2'>,]\n",
      "  [<class 'itkVectorImagePython.itkVectorImageSS3'>,]\n",
      "  [<class 'itkVectorImagePython.itkVectorImageUC2'>,]\n",
      "  [<class 'itkVectorImagePython.itkVectorImageUC3'>,]\n",
      "  [<class 'itkVectorImagePython.itkVectorImageUS2'>,]\n",
      "  [<class 'itkVectorImagePython.itkVectorImageUS3'>,]\n"
     ]
    }
   ],
   "source": [
    "itk.PyBuffer.GetTypes()"
   ]
  },
  {
   "cell_type": "code",
   "execution_count": 7,
   "metadata": {},
   "outputs": [
    {
     "name": "stdout",
     "output_type": "stream",
     "text": [
      "<itkTemplate itk::VariableLengthVector>\n",
      "Options:\n",
      "  [<itkCType double>,]\n",
      "  [<itkCType float>,]\n",
      "  [<itkCType signed short>,]\n",
      "  [<itkCType unsigned char>,]\n",
      "  [<itkCType unsigned short>,]\n",
      "  [<class 'stdcomplexPython.stdcomplexF'>,]\n"
     ]
    }
   ],
   "source": [
    "itk.VariableLengthVector.GetTypes()"
   ]
  },
  {
   "cell_type": "code",
   "execution_count": 9,
   "metadata": {},
   "outputs": [],
   "source": [
    "v = itk.VariableLengthVector.D(1)\n"
   ]
  },
  {
   "cell_type": "code",
   "execution_count": 12,
   "metadata": {},
   "outputs": [
    {
     "data": {
      "text/plain": [
       "1"
      ]
     },
     "execution_count": 12,
     "metadata": {},
     "output_type": "execute_result"
    }
   ],
   "source": [
    "v.GetSize()"
   ]
  },
  {
   "cell_type": "code",
   "execution_count": null,
   "metadata": {},
   "outputs": [],
   "source": []
  }
 ],
 "metadata": {
  "kernelspec": {
   "display_name": "Python 2",
   "language": "python",
   "name": "python2"
  },
  "language_info": {
   "codemirror_mode": {
    "name": "ipython",
    "version": 3
   },
   "file_extension": ".py",
   "mimetype": "text/x-python",
   "name": "python",
   "nbconvert_exporter": "python",
   "pygments_lexer": "ipython3",
   "version": "3.6.6"
  }
 },
 "nbformat": 4,
 "nbformat_minor": 2
}

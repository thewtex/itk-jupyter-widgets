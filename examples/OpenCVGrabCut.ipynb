{
 "cells": [
  {
   "cell_type": "code",
   "execution_count": 2,
   "metadata": {},
   "outputs": [
    {
     "name": "stdout",
     "output_type": "stream",
     "text": [
      "Requirement already satisfied: itk-io in /home/matt/bin/venvs/itkwidgets/lib/python2.7/site-packages (4.13.1.post1)\n",
      "Collecting opencv-python\n",
      "\u001b[?25l  Downloading https://files.pythonhosted.org/packages/60/6a/dcc146a95bc8bde469958ee3ae693a8721798c5f9da7ea58e5a580754610/opencv_python-3.4.2.17-cp27-cp27mu-manylinux1_x86_64.whl (25.0MB)\n",
      "\u001b[K    100% |████████████████████████████████| 25.0MB 998kB/s eta 0:00:01\n",
      "\u001b[?25hRequirement already satisfied: itk-core in /home/matt/bin/venvs/itkwidgets/lib/python2.7/site-packages (from itk-io) (4.13.1.post1)\n",
      "Requirement already satisfied: numpy>=1.11.1 in /home/matt/bin/venvs/itkwidgets/lib/python2.7/site-packages (from opencv-python) (1.15.0)\n",
      "Installing collected packages: opencv-python\n",
      "Successfully installed opencv-python-3.4.2.17\n"
     ]
    }
   ],
   "source": [
    "# Install dependencies for this example\n",
    "# Note: This does not include itk-jupyter-widgets, itself\n",
    "import sys\n",
    "!{sys.executable} -m pip install itk-io opencv-python"
   ]
  },
  {
   "cell_type": "code",
   "execution_count": 28,
   "metadata": {},
   "outputs": [],
   "source": [
    "try:\n",
    "    from urllib.request import urlretrieve\n",
    "except ImportError:\n",
    "    from urllib import urlretrieve\n",
    "import os\n",
    "\n",
    "import itk\n",
    "import cv2\n",
    "\n",
    "from itkwidgets import view\n",
    "import itkwidgets"
   ]
  },
  {
   "cell_type": "code",
   "execution_count": 29,
   "metadata": {},
   "outputs": [],
   "source": [
    "# Download data\n",
    "file_name = 'messi5.jpg'\n",
    "if not os.path.exists(file_name):\n",
    "    url = 'https://raw.githubusercontent.com/opencv/opencv/4eb296655958e9241f43a7bd144d5e63759f6cea/samples/data/messi5.jpg'\n",
    "    urlretrieve(url, file_name)"
   ]
  },
  {
   "cell_type": "code",
   "execution_count": 30,
   "metadata": {},
   "outputs": [
    {
     "data": {
      "application/vnd.jupyter.widget-view+json": {
       "model_id": "2ff8963781e64df2b9ebd20e69589972",
       "version_major": 2,
       "version_minor": 0
      },
      "text/plain": [
       "Vmlld2VyKHJlbmRlcmVkX2ltYWdlPTxpdGtJbWFnZVB5dGhvbi5pdGtJbWFnZVJHQlVDMjsgcHJveHkgb2YgPFN3aWcgT2JqZWN0IG9mIHR5cGUgJ2l0a0ltYWdlUkdCVUMyIConIGF0IDB4N2bigKY=\n"
      ]
     },
     "metadata": {},
     "output_type": "display_data"
    }
   ],
   "source": [
    "image = itk.imread(file_name)\n",
    "viewer = view(image, ui_collapsed=True)\n",
    "viewer"
   ]
  },
  {
   "cell_type": "code",
   "execution_count": 12,
   "metadata": {},
   "outputs": [
    {
     "data": {
      "text/plain": [
       "True"
      ]
     },
     "execution_count": 12,
     "metadata": {},
     "output_type": "execute_result"
    }
   ],
   "source": [
    "viewer.ui_collapsed"
   ]
  },
  {
   "cell_type": "markdown",
   "metadata": {},
   "source": [
    "In addition to recording, playing back, and downloading videos (shown above), it is possible to take and save screenshots."
   ]
  },
  {
   "cell_type": "code",
   "execution_count": 24,
   "metadata": {},
   "outputs": [
    {
     "data": {
      "application/vnd.jupyter.widget-view+json": {
       "model_id": "f37b3608a55244269c449d6eb0078833",
       "version_major": 2,
       "version_minor": 0
      },
      "text/plain": [
       "SW1hZ2VSZWNvcmRlcihhdXRvc2F2ZT1UcnVlLCBmaWxlbmFtZT11J3dpZGdldF9pbWFnZScsIGltYWdlPUltYWdlKHZhbHVlPScnKSwgc3RyZWFtPVZpZXdlcihjbWFwPXUnQnVSZCcsIHJlbmTigKY=\n"
      ]
     },
     "metadata": {},
     "output_type": "display_data"
    }
   ],
   "source": [
    "image_recorder = webrtc.ImageRecorder(stream=viewer, filename='widget_image', autosave=True)\n",
    "image_recorder"
   ]
  },
  {
   "cell_type": "code",
   "execution_count": 24,
   "metadata": {},
   "outputs": [
    {
     "name": "stdout",
     "output_type": "stream",
     "text": [
      "Image (0x55e0abc7a5d0)\n",
      "  RTTI typeinfo:   itk::Image<itk::RGBPixel<unsigned char>, 2u>\n",
      "  Reference Count: 1\n",
      "  Modified Time: 2356\n",
      "  Debug: Off\n",
      "  Object Name: \n",
      "  Observers: \n",
      "    none\n",
      "  Source: (none)\n",
      "  Source output name: (none)\n",
      "  Release Data: Off\n",
      "  Data Released: False\n",
      "  Global Release Data: Off\n",
      "  PipelineMTime: 2208\n",
      "  UpdateMTime: 2355\n",
      "  RealTimeStamp: 0 seconds \n",
      "  LargestPossibleRegion: \n",
      "    Dimension: 2\n",
      "    Index: [0, 0]\n",
      "    Size: [548, 342]\n",
      "  BufferedRegion: \n",
      "    Dimension: 2\n",
      "    Index: [0, 0]\n",
      "    Size: [548, 342]\n",
      "  RequestedRegion: \n",
      "    Dimension: 2\n",
      "    Index: [0, 0]\n",
      "    Size: [548, 342]\n",
      "  Spacing: [1, 1]\n",
      "  Origin: [0, 0]\n",
      "  Direction: \n",
      "1 0\n",
      "0 1\n",
      "\n",
      "  IndexToPointMatrix: \n",
      "1 0\n",
      "0 1\n",
      "\n",
      "  PointToIndexMatrix: \n",
      "1 0\n",
      "0 1\n",
      "\n",
      "  Inverse Direction: \n",
      "1 0\n",
      "0 1\n",
      "\n",
      "  PixelContainer: \n",
      "    ImportImageContainer (0x55e0aa282ef0)\n",
      "      RTTI typeinfo:   itk::ImportImageContainer<unsigned long, itk::RGBPixel<unsigned char> >\n",
      "      Reference Count: 4\n",
      "      Modified Time: 2352\n",
      "      Debug: Off\n",
      "      Object Name: \n",
      "      Observers: \n",
      "        none\n",
      "      Pointer: 0x55e0ac76a830\n",
      "      Container manages memory: true\n",
      "      Size: 187416\n",
      "      Capacity: 187416\n",
      "\n"
     ]
    }
   ],
   "source": [
    "print(image)"
   ]
  },
  {
   "cell_type": "code",
   "execution_count": null,
   "metadata": {},
   "outputs": [],
   "source": []
  }
 ],
 "metadata": {
  "kernelspec": {
   "display_name": "Python 2",
   "language": "python",
   "name": "python2"
  },
  "language_info": {
   "codemirror_mode": {
    "name": "ipython",
    "version": 2
   },
   "file_extension": ".py",
   "mimetype": "text/x-python",
   "name": "python",
   "nbconvert_exporter": "python",
   "pygments_lexer": "ipython2",
   "version": "2.7.13"
  }
 },
 "nbformat": 4,
 "nbformat_minor": 2
}
